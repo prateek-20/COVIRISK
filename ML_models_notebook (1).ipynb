{
 "cells": [
  {
   "cell_type": "markdown",
   "metadata": {},
   "source": [
    "# MACHINE LEARNING PROJECT\n",
    "\n",
    "\n",
    "# COVID 19 DEATH RISK PREDICTION \n",
    "\n",
    "## PRATEEK KUMAR\n",
    "\n",
    "\n",
    "  "
   ]
  },
  {
   "cell_type": "raw",
   "metadata": {},
   "source": []
  },
  {
   "cell_type": "markdown",
   "metadata": {},
   "source": [
    "## Import necessary modules required"
   ]
  },
  {
   "cell_type": "code",
   "execution_count": 1,
   "metadata": {},
   "outputs": [],
   "source": [
    "# import necessary modules\n",
    "import pandas as pd\n",
    "import numpy as np\n",
    "from sklearn import preprocessing\n",
    "import matplotlib.pyplot as plt \n",
    "plt.rc(\"font\", size=14)\n",
    "from sklearn.linear_model import LinearRegression\n",
    "from sklearn.model_selection import train_test_split\n",
    "import seaborn as sns\n",
    "sns.set(style=\"white\")\n",
    "sns.set(style=\"whitegrid\", color_codes=True)\n",
    "from sklearn import metrics\n",
    "from sklearn.metrics import accuracy_score\n",
    "import warnings\n",
    "warnings.filterwarnings('ignore')"
   ]
  },
  {
   "cell_type": "code",
   "execution_count": null,
   "metadata": {},
   "outputs": [],
   "source": []
  },
  {
   "cell_type": "markdown",
   "metadata": {},
   "source": [
    "## LOAD THE DATASET"
   ]
  },
  {
   "cell_type": "code",
   "execution_count": 3,
   "metadata": {},
   "outputs": [
    {
     "name": "stdout",
     "output_type": "stream",
     "text": [
      "(566602, 23)\n"
     ]
    }
   ],
   "source": [
    "import pandas as pd\n",
    "import numpy as np\n",
    "data = pd.read_csv('covid.csv', header=0)\n",
    "print(data.shape)"
   ]
  },
  {
   "cell_type": "code",
   "execution_count": 4,
   "metadata": {},
   "outputs": [
    {
     "data": {
      "text/html": [
       "<div>\n",
       "<style scoped>\n",
       "    .dataframe tbody tr th:only-of-type {\n",
       "        vertical-align: middle;\n",
       "    }\n",
       "\n",
       "    .dataframe tbody tr th {\n",
       "        vertical-align: top;\n",
       "    }\n",
       "\n",
       "    .dataframe thead th {\n",
       "        text-align: right;\n",
       "    }\n",
       "</style>\n",
       "<table border=\"1\" class=\"dataframe\">\n",
       "  <thead>\n",
       "    <tr style=\"text-align: right;\">\n",
       "      <th></th>\n",
       "      <th>id</th>\n",
       "      <th>sex</th>\n",
       "      <th>patient_type</th>\n",
       "      <th>entry_date</th>\n",
       "      <th>date_symptoms</th>\n",
       "      <th>date_died</th>\n",
       "      <th>intubed</th>\n",
       "      <th>pneumonia</th>\n",
       "      <th>age</th>\n",
       "      <th>pregnancy</th>\n",
       "      <th>...</th>\n",
       "      <th>inmsupr</th>\n",
       "      <th>hypertension</th>\n",
       "      <th>other_disease</th>\n",
       "      <th>cardiovascular</th>\n",
       "      <th>obesity</th>\n",
       "      <th>renal_chronic</th>\n",
       "      <th>tobacco</th>\n",
       "      <th>contact_other_covid</th>\n",
       "      <th>covid_res</th>\n",
       "      <th>icu</th>\n",
       "    </tr>\n",
       "  </thead>\n",
       "  <tbody>\n",
       "    <tr>\n",
       "      <td>0</td>\n",
       "      <td>16169f</td>\n",
       "      <td>2</td>\n",
       "      <td>1</td>\n",
       "      <td>04-05-2020</td>\n",
       "      <td>02-05-2020</td>\n",
       "      <td>9999-99-99</td>\n",
       "      <td>97</td>\n",
       "      <td>2</td>\n",
       "      <td>27</td>\n",
       "      <td>97</td>\n",
       "      <td>...</td>\n",
       "      <td>2</td>\n",
       "      <td>2</td>\n",
       "      <td>2</td>\n",
       "      <td>2</td>\n",
       "      <td>2</td>\n",
       "      <td>2</td>\n",
       "      <td>2</td>\n",
       "      <td>2</td>\n",
       "      <td>1</td>\n",
       "      <td>97</td>\n",
       "    </tr>\n",
       "    <tr>\n",
       "      <td>1</td>\n",
       "      <td>1009bf</td>\n",
       "      <td>2</td>\n",
       "      <td>1</td>\n",
       "      <td>19-03-2020</td>\n",
       "      <td>17-03-2020</td>\n",
       "      <td>9999-99-99</td>\n",
       "      <td>97</td>\n",
       "      <td>2</td>\n",
       "      <td>24</td>\n",
       "      <td>97</td>\n",
       "      <td>...</td>\n",
       "      <td>2</td>\n",
       "      <td>2</td>\n",
       "      <td>2</td>\n",
       "      <td>2</td>\n",
       "      <td>2</td>\n",
       "      <td>2</td>\n",
       "      <td>2</td>\n",
       "      <td>99</td>\n",
       "      <td>1</td>\n",
       "      <td>97</td>\n",
       "    </tr>\n",
       "    <tr>\n",
       "      <td>2</td>\n",
       "      <td>167386</td>\n",
       "      <td>1</td>\n",
       "      <td>2</td>\n",
       "      <td>06-04-2020</td>\n",
       "      <td>01-04-2020</td>\n",
       "      <td>9999-99-99</td>\n",
       "      <td>2</td>\n",
       "      <td>2</td>\n",
       "      <td>54</td>\n",
       "      <td>2</td>\n",
       "      <td>...</td>\n",
       "      <td>2</td>\n",
       "      <td>2</td>\n",
       "      <td>2</td>\n",
       "      <td>2</td>\n",
       "      <td>1</td>\n",
       "      <td>2</td>\n",
       "      <td>2</td>\n",
       "      <td>99</td>\n",
       "      <td>1</td>\n",
       "      <td>2</td>\n",
       "    </tr>\n",
       "    <tr>\n",
       "      <td>3</td>\n",
       "      <td>0b5948</td>\n",
       "      <td>2</td>\n",
       "      <td>2</td>\n",
       "      <td>17-04-2020</td>\n",
       "      <td>10-04-2020</td>\n",
       "      <td>9999-99-99</td>\n",
       "      <td>2</td>\n",
       "      <td>1</td>\n",
       "      <td>30</td>\n",
       "      <td>97</td>\n",
       "      <td>...</td>\n",
       "      <td>2</td>\n",
       "      <td>2</td>\n",
       "      <td>2</td>\n",
       "      <td>2</td>\n",
       "      <td>2</td>\n",
       "      <td>2</td>\n",
       "      <td>2</td>\n",
       "      <td>99</td>\n",
       "      <td>1</td>\n",
       "      <td>2</td>\n",
       "    </tr>\n",
       "    <tr>\n",
       "      <td>4</td>\n",
       "      <td>0d01b5</td>\n",
       "      <td>1</td>\n",
       "      <td>2</td>\n",
       "      <td>13-04-2020</td>\n",
       "      <td>13-04-2020</td>\n",
       "      <td>22-04-2020</td>\n",
       "      <td>2</td>\n",
       "      <td>2</td>\n",
       "      <td>60</td>\n",
       "      <td>2</td>\n",
       "      <td>...</td>\n",
       "      <td>2</td>\n",
       "      <td>1</td>\n",
       "      <td>2</td>\n",
       "      <td>1</td>\n",
       "      <td>2</td>\n",
       "      <td>2</td>\n",
       "      <td>2</td>\n",
       "      <td>99</td>\n",
       "      <td>1</td>\n",
       "      <td>2</td>\n",
       "    </tr>\n",
       "  </tbody>\n",
       "</table>\n",
       "<p>5 rows × 23 columns</p>\n",
       "</div>"
      ],
      "text/plain": [
       "       id  sex  patient_type  entry_date date_symptoms   date_died  intubed  \\\n",
       "0  16169f    2             1  04-05-2020    02-05-2020  9999-99-99       97   \n",
       "1  1009bf    2             1  19-03-2020    17-03-2020  9999-99-99       97   \n",
       "2  167386    1             2  06-04-2020    01-04-2020  9999-99-99        2   \n",
       "3  0b5948    2             2  17-04-2020    10-04-2020  9999-99-99        2   \n",
       "4  0d01b5    1             2  13-04-2020    13-04-2020  22-04-2020        2   \n",
       "\n",
       "   pneumonia  age  pregnancy  ...  inmsupr  hypertension  other_disease  \\\n",
       "0          2   27         97  ...        2             2              2   \n",
       "1          2   24         97  ...        2             2              2   \n",
       "2          2   54          2  ...        2             2              2   \n",
       "3          1   30         97  ...        2             2              2   \n",
       "4          2   60          2  ...        2             1              2   \n",
       "\n",
       "   cardiovascular  obesity  renal_chronic  tobacco  contact_other_covid  \\\n",
       "0               2        2              2        2                    2   \n",
       "1               2        2              2        2                   99   \n",
       "2               2        1              2        2                   99   \n",
       "3               2        2              2        2                   99   \n",
       "4               1        2              2        2                   99   \n",
       "\n",
       "   covid_res  icu  \n",
       "0          1   97  \n",
       "1          1   97  \n",
       "2          1    2  \n",
       "3          1    2  \n",
       "4          1    2  \n",
       "\n",
       "[5 rows x 23 columns]"
      ]
     },
     "execution_count": 4,
     "metadata": {},
     "output_type": "execute_result"
    }
   ],
   "source": [
    "data.head()"
   ]
  },
  {
   "cell_type": "markdown",
   "metadata": {},
   "source": [
    "### The above data contains various columns related to the patient's personal information and his/her precondition during covid.\n"
   ]
  },
  {
   "cell_type": "code",
   "execution_count": null,
   "metadata": {},
   "outputs": [],
   "source": []
  },
  {
   "cell_type": "markdown",
   "metadata": {},
   "source": [
    "# Data Analysis and Data Prepartion"
   ]
  },
  {
   "cell_type": "code",
   "execution_count": 5,
   "metadata": {},
   "outputs": [
    {
     "data": {
      "text/plain": [
       "Index(['id', 'sex', 'patient_type', 'entry_date', 'date_symptoms', 'date_died',\n",
       "       'intubed', 'pneumonia', 'age', 'pregnancy', 'diabetes', 'copd',\n",
       "       'asthma', 'inmsupr', 'hypertension', 'other_disease', 'cardiovascular',\n",
       "       'obesity', 'renal_chronic', 'tobacco', 'contact_other_covid',\n",
       "       'covid_res', 'icu'],\n",
       "      dtype='object')"
      ]
     },
     "execution_count": 5,
     "metadata": {},
     "output_type": "execute_result"
    }
   ],
   "source": [
    "# Gives the name of all the columns present in the dataset\n",
    "data.columns"
   ]
  },
  {
   "cell_type": "code",
   "execution_count": 6,
   "metadata": {},
   "outputs": [
    {
     "data": {
      "text/plain": [
       "id                     object\n",
       "sex                     int64\n",
       "patient_type            int64\n",
       "entry_date             object\n",
       "date_symptoms          object\n",
       "date_died              object\n",
       "intubed                 int64\n",
       "pneumonia               int64\n",
       "age                     int64\n",
       "pregnancy               int64\n",
       "diabetes                int64\n",
       "copd                    int64\n",
       "asthma                  int64\n",
       "inmsupr                 int64\n",
       "hypertension            int64\n",
       "other_disease           int64\n",
       "cardiovascular          int64\n",
       "obesity                 int64\n",
       "renal_chronic           int64\n",
       "tobacco                 int64\n",
       "contact_other_covid     int64\n",
       "covid_res               int64\n",
       "icu                     int64\n",
       "dtype: object"
      ]
     },
     "execution_count": 6,
     "metadata": {},
     "output_type": "execute_result"
    }
   ],
   "source": [
    "# Gives the data types of all the columns or features present in the dataset\n",
    "data.dtypes"
   ]
  },
  {
   "cell_type": "markdown",
   "metadata": {},
   "source": [
    "### Some columns are not important to us so we can remove those attributes "
   ]
  },
  {
   "cell_type": "code",
   "execution_count": 7,
   "metadata": {},
   "outputs": [],
   "source": [
    "# As we are focusing on the death risk so some of the columns are of no use to us \n",
    "# Thus we need to drop those columns from our dataframe\n",
    "data.drop(columns = ['id','entry_date','date_symptoms','contact_other_covid','covid_res','patient_type'],inplace = True)"
   ]
  },
  {
   "cell_type": "code",
   "execution_count": 8,
   "metadata": {},
   "outputs": [
    {
     "data": {
      "text/plain": [
       "(566602, 17)"
      ]
     },
     "execution_count": 8,
     "metadata": {},
     "output_type": "execute_result"
    }
   ],
   "source": [
    "data.shape"
   ]
  },
  {
   "cell_type": "markdown",
   "metadata": {},
   "source": [
    "### Check if we have any null values in the dataset"
   ]
  },
  {
   "cell_type": "code",
   "execution_count": 9,
   "metadata": {},
   "outputs": [
    {
     "data": {
      "text/plain": [
       "sex               0\n",
       "date_died         0\n",
       "intubed           0\n",
       "pneumonia         0\n",
       "age               0\n",
       "pregnancy         0\n",
       "diabetes          0\n",
       "copd              0\n",
       "asthma            0\n",
       "inmsupr           0\n",
       "hypertension      0\n",
       "other_disease     0\n",
       "cardiovascular    0\n",
       "obesity           0\n",
       "renal_chronic     0\n",
       "tobacco           0\n",
       "icu               0\n",
       "dtype: int64"
      ]
     },
     "execution_count": 9,
     "metadata": {},
     "output_type": "execute_result"
    }
   ],
   "source": [
    "data.isnull().sum()"
   ]
  },
  {
   "cell_type": "code",
   "execution_count": 10,
   "metadata": {},
   "outputs": [
    {
     "data": {
      "text/plain": [
       "array([2, 1], dtype=int64)"
      ]
     },
     "execution_count": 10,
     "metadata": {},
     "output_type": "execute_result"
    }
   ],
   "source": [
    " data['sex'].unique()"
   ]
  },
  {
   "cell_type": "code",
   "execution_count": 11,
   "metadata": {},
   "outputs": [],
   "source": [
    "data = data.loc[0:400000,:]"
   ]
  },
  {
   "cell_type": "markdown",
   "metadata": {},
   "source": []
  },
  {
   "cell_type": "code",
   "execution_count": null,
   "metadata": {},
   "outputs": [],
   "source": []
  },
  {
   "cell_type": "markdown",
   "metadata": {},
   "source": [
    "### Our main aim is to predeict the risk of death of any patient thus the most important attribute for us is the result whether the patient died or recovered from the virus\n",
    "\n",
    "### The date_died is the column we are going to use find whether the patient recovered from the virus. If the value of the column --> 9999-99-99  it depicts that the patient has survived else the patient has died at the given date"
   ]
  },
  {
   "cell_type": "code",
   "execution_count": 12,
   "metadata": {},
   "outputs": [],
   "source": [
    "data['Death'] = data['date_died'].apply(lambda x: 0 if x==\"9999-99-99\" else 1)"
   ]
  },
  {
   "cell_type": "code",
   "execution_count": 13,
   "metadata": {},
   "outputs": [
    {
     "data": {
      "text/plain": [
       "sex                int64\n",
       "date_died         object\n",
       "intubed            int64\n",
       "pneumonia          int64\n",
       "age                int64\n",
       "pregnancy          int64\n",
       "diabetes           int64\n",
       "copd               int64\n",
       "asthma             int64\n",
       "inmsupr            int64\n",
       "hypertension       int64\n",
       "other_disease      int64\n",
       "cardiovascular     int64\n",
       "obesity            int64\n",
       "renal_chronic      int64\n",
       "tobacco            int64\n",
       "icu                int64\n",
       "Death              int64\n",
       "dtype: object"
      ]
     },
     "execution_count": 13,
     "metadata": {},
     "output_type": "execute_result"
    }
   ],
   "source": [
    "data.dtypes"
   ]
  },
  {
   "cell_type": "code",
   "execution_count": 14,
   "metadata": {},
   "outputs": [],
   "source": [
    "data.drop(columns = ['date_died'],inplace = True)"
   ]
  },
  {
   "cell_type": "code",
   "execution_count": 15,
   "metadata": {},
   "outputs": [
    {
     "data": {
      "text/plain": [
       "(400001, 17)"
      ]
     },
     "execution_count": 15,
     "metadata": {},
     "output_type": "execute_result"
    }
   ],
   "source": [
    "data.shape"
   ]
  },
  {
   "cell_type": "raw",
   "metadata": {},
   "source": [
    "Plot of the data wrt sex \n",
    "Female - 1\n",
    "Male - 2\n",
    "We can clearly see that the males are more in number than the females"
   ]
  },
  {
   "cell_type": "code",
   "execution_count": 16,
   "metadata": {},
   "outputs": [
    {
     "data": {
      "text/plain": [
       "Text(0.5, 0, 'Female-1 Male-2')"
      ]
     },
     "execution_count": 16,
     "metadata": {},
     "output_type": "execute_result"
    },
    {
     "data": {
      "image/png": "[encoded data removed]",
      "text/plain": [
       "<Figure size 432x288 with 1 Axes>"
      ]
     },
     "metadata": {
      "needs_background": "light"
     },
     "output_type": "display_data"
    }
   ],
   "source": [
    "sns.countplot(x='sex',data=data, palette='hls')\n",
    "plt.xlabel('Female-1 Male-2')"
   ]
  },
  {
   "cell_type": "code",
   "execution_count": 17,
   "metadata": {},
   "outputs": [
    {
     "data": {
      "text/plain": [
       "<matplotlib.axes._subplots.AxesSubplot at 0x2748fe527c8>"
      ]
     },
     "execution_count": 17,
     "metadata": {},
     "output_type": "execute_result"
    },
    {
     "data": {
      "image/png": "[encoded data removed]",
      "text/plain": [
       "<Figure size 432x288 with 1 Axes>"
      ]
     },
     "metadata": {
      "needs_background": "light"
     },
     "output_type": "display_data"
    }
   ],
   "source": [
    "sns.countplot(x='Death',data=data,hue='sex')"
   ]
  },
  {
   "cell_type": "code",
   "execution_count": 18,
   "metadata": {},
   "outputs": [
    {
     "data": {
      "text/plain": [
       "<matplotlib.axes._subplots.AxesSubplot at 0x27489e77c88>"
      ]
     },
     "execution_count": 18,
     "metadata": {},
     "output_type": "execute_result"
    },
    {
     "data": {
      "image/png": "[encoded data removed]",
      "text/plain": [
       "<Figure size 432x288 with 1 Axes>"
      ]
     },
     "metadata": {
      "needs_background": "light"
     },
     "output_type": "display_data"
    }
   ],
   "source": [
    "sns.distplot(data['age'],kde=False,bins=20)"
   ]
  },
  {
   "cell_type": "code",
   "execution_count": 19,
   "metadata": {},
   "outputs": [
    {
     "data": {
      "text/plain": [
       "<matplotlib.axes._subplots.AxesSubplot at 0x27491430908>"
      ]
     },
     "execution_count": 19,
     "metadata": {},
     "output_type": "execute_result"
    },
    {
     "data": {
      "image/png": "[encoded data removed]",
      "text/plain": [
       "<Figure size 432x288 with 1 Axes>"
      ]
     },
     "metadata": {
      "needs_background": "light"
     },
     "output_type": "display_data"
    }
   ],
   "source": [
    "sns.distplot(data[data['Death']==1]['age'],kde=False,bins=20)"
   ]
  },
  {
   "cell_type": "code",
   "execution_count": null,
   "metadata": {},
   "outputs": [],
   "source": []
  },
  {
   "cell_type": "code",
   "execution_count": 20,
   "metadata": {},
   "outputs": [
    {
     "data": {
      "text/plain": [
       "sex               31633\n",
       "intubed           31633\n",
       "pneumonia         31633\n",
       "age               31633\n",
       "pregnancy         31633\n",
       "diabetes          31633\n",
       "copd              31633\n",
       "asthma            31633\n",
       "inmsupr           31633\n",
       "hypertension      31633\n",
       "other_disease     31633\n",
       "cardiovascular    31633\n",
       "obesity           31633\n",
       "renal_chronic     31633\n",
       "tobacco           31633\n",
       "icu               31633\n",
       "Death             31633\n",
       "dtype: int64"
      ]
     },
     "execution_count": 20,
     "metadata": {},
     "output_type": "execute_result"
    }
   ],
   "source": [
    "data[data['Death']==1].count()"
   ]
  },
  {
   "cell_type": "markdown",
   "metadata": {},
   "source": [
    "## Replacing some values"
   ]
  },
  {
   "cell_type": "code",
   "execution_count": 21,
   "metadata": {},
   "outputs": [],
   "source": [
    "data['intubed'] = data['intubed'].apply(lambda x: 0 if x not in[1,2] else x)"
   ]
  },
  {
   "cell_type": "code",
   "execution_count": 22,
   "metadata": {},
   "outputs": [],
   "source": [
    "data['pregnancy'] = data['pregnancy'].apply(lambda x: 0 if x not in[1,2] else x)"
   ]
  },
  {
   "cell_type": "code",
   "execution_count": 23,
   "metadata": {},
   "outputs": [],
   "source": [
    "data['icu'] = data['icu'].apply(lambda x: 0 if x not in [1,2] else x)"
   ]
  },
  {
   "cell_type": "code",
   "execution_count": 24,
   "metadata": {},
   "outputs": [],
   "source": [
    "data['asthma'] = data['icu'].apply(lambda x: 0 if x not in[1,2] else x)"
   ]
  },
  {
   "cell_type": "markdown",
   "metadata": {},
   "source": [
    "## Correlation between all the columns"
   ]
  },
  {
   "cell_type": "code",
   "execution_count": 25,
   "metadata": {},
   "outputs": [
    {
     "data": {
      "text/plain": [
       "<matplotlib.axes._subplots.AxesSubplot at 0x27491065a88>"
      ]
     },
     "execution_count": 25,
     "metadata": {},
     "output_type": "execute_result"
    },
    {
     "data": {
      "image/png": "[encoded data removed]",
      "text/plain": [
       "<Figure size 1080x720 with 2 Axes>"
      ]
     },
     "metadata": {
      "needs_background": "light"
     },
     "output_type": "display_data"
    }
   ],
   "source": [
    "plt.figure(figsize=(15,10))\n",
    "sns.heatmap(data.corr(),annot=True,cmap='viridis')"
   ]
  },
  {
   "cell_type": "code",
   "execution_count": 26,
   "metadata": {},
   "outputs": [],
   "source": [
    "data.drop(columns = ['intubed'],inplace = True)"
   ]
  },
  {
   "cell_type": "code",
   "execution_count": 27,
   "metadata": {},
   "outputs": [],
   "source": [
    "li = []\n",
    "for col in data.columns:\n",
    "    if(col!=\"Death\"):\n",
    "        li.append(col)\n",
    "cols= li"
   ]
  },
  {
   "cell_type": "markdown",
   "metadata": {},
   "source": [
    "# 1.Linear Regression model"
   ]
  },
  {
   "cell_type": "code",
   "execution_count": 47,
   "metadata": {},
   "outputs": [],
   "source": [
    "X=data[cols].values\n",
    "y=data['Death'].values"
   ]
  },
  {
   "cell_type": "code",
   "execution_count": 48,
   "metadata": {},
   "outputs": [],
   "source": [
    "# splitting the data in order to test our model\n",
    "X_train, X_test, y_train, y_test = train_test_split(X, y, test_size=0.2, random_state=0)"
   ]
  },
  {
   "cell_type": "code",
   "execution_count": 50,
   "metadata": {},
   "outputs": [
    {
     "data": {
      "text/plain": [
       "LinearRegression(copy_X=True, fit_intercept=True, n_jobs=None, normalize=False)"
      ]
     },
     "execution_count": 50,
     "metadata": {},
     "output_type": "execute_result"
    }
   ],
   "source": [
    "regressor = LinearRegression()  \n",
    "regressor.fit(X_train, y_train)"
   ]
  },
  {
   "cell_type": "code",
   "execution_count": 51,
   "metadata": {},
   "outputs": [],
   "source": [
    "y_pred = regressor.predict(X_test)"
   ]
  },
  {
   "cell_type": "code",
   "execution_count": 52,
   "metadata": {},
   "outputs": [
    {
     "data": {
      "text/plain": [
       "array([-0.,  0.,  0., ..., -0., -0.,  0.])"
      ]
     },
     "execution_count": 52,
     "metadata": {},
     "output_type": "execute_result"
    }
   ],
   "source": [
    "y_pred.round()"
   ]
  },
  {
   "cell_type": "code",
   "execution_count": 55,
   "metadata": {},
   "outputs": [],
   "source": [
    "lr_mse = mean_squared_error(y_test, y_pred)\n",
    "lr_mae = mean_absolute_error(y_test, y_pred)\n",
    "lr_acc = accuracy_score(y_test,y_pred.round())"
   ]
  },
  {
   "cell_type": "code",
   "execution_count": 34,
   "metadata": {},
   "outputs": [
    {
     "name": "stdout",
     "output_type": "stream",
     "text": [
      "Mean Absolute Error: 0.12853866581109705\n",
      "Mean Squared Error: 0.05542153919788796\n",
      "Root Mean Squared Error: 0.23541779711374405\n",
      "Accuracy 92.00759990500119\n"
     ]
    }
   ],
   "source": [
    "#Error Metrics\n",
    "print('Mean Absolute Error:', lr_mae)  \n",
    "print('Mean Squared Error:', lr_mse)\n",
    "print('Root Mean Squared Error:', np.sqrt(lr_mse))\n",
    "print('Accuracy',lr_acc*100)"
   ]
  },
  {
   "cell_type": "markdown",
   "metadata": {},
   "source": [
    "# 2.Decision Tree"
   ]
  },
  {
   "cell_type": "code",
   "execution_count": 57,
   "metadata": {},
   "outputs": [],
   "source": [
    "from sklearn.tree import DecisionTreeRegressor\n"
   ]
  },
  {
   "cell_type": "code",
   "execution_count": 58,
   "metadata": {},
   "outputs": [],
   "source": [
    "tree_model = DecisionTreeRegressor()\n"
   ]
  },
  {
   "cell_type": "code",
   "execution_count": 59,
   "metadata": {},
   "outputs": [
    {
     "data": {
      "text/plain": [
       "DecisionTreeRegressor(criterion='mse', max_depth=None, max_features=None,\n",
       "                      max_leaf_nodes=None, min_impurity_decrease=0.0,\n",
       "                      min_impurity_split=None, min_samples_leaf=1,\n",
       "                      min_samples_split=2, min_weight_fraction_leaf=0.0,\n",
       "                      presort=False, random_state=None, splitter='best')"
      ]
     },
     "execution_count": 59,
     "metadata": {},
     "output_type": "execute_result"
    }
   ],
   "source": [
    "tree_model.fit(X_train, y_train)\n"
   ]
  },
  {
   "cell_type": "code",
   "execution_count": 60,
   "metadata": {},
   "outputs": [],
   "source": [
    "y_pred1 = tree_model.predict(X_test)\n"
   ]
  },
  {
   "cell_type": "code",
   "execution_count": 61,
   "metadata": {},
   "outputs": [],
   "source": [
    "from sklearn.metrics import mean_squared_error\n",
    "from sklearn.metrics import mean_absolute_error"
   ]
  },
  {
   "cell_type": "code",
   "execution_count": 62,
   "metadata": {},
   "outputs": [],
   "source": [
    "from math import sqrt"
   ]
  },
  {
   "cell_type": "code",
   "execution_count": 63,
   "metadata": {},
   "outputs": [],
   "source": [
    "from sklearn.metrics import accuracy_score"
   ]
  },
  {
   "cell_type": "code",
   "execution_count": 64,
   "metadata": {},
   "outputs": [],
   "source": [
    "tree_mse = mean_squared_error(y_test, y_pred1)\n",
    "tree_mae = mean_absolute_error(y_test, y_pred1)\n",
    "tree_acc = accuracy_score(y_test,y_pred1.round())"
   ]
  },
  {
   "cell_type": "code",
   "execution_count": 66,
   "metadata": {},
   "outputs": [
    {
     "name": "stdout",
     "output_type": "stream",
     "text": [
      "Decision Tree:\n",
      "Mean Absolute Error: 0.10163161197770382\n",
      "Mean Squared Error: 0.0630504125146519\n",
      "Root Mean Squared Error: 0.2510984120114102\n",
      "Accuracy percentage 91.71760352995587\n"
     ]
    }
   ],
   "source": [
    "print(\"Decision Tree:\")\n",
    "print(\"Mean Absolute Error:\",tree_mae)\n",
    "print(\"Mean Squared Error:\",tree_mse)\n",
    "print(\"Root Mean Squared Error:\", sqrt(tree_mse))\n",
    "print(\"Accuracy percentage\",tree_acc*100)"
   ]
  },
  {
   "cell_type": "markdown",
   "metadata": {},
   "source": [
    "# 3.Random Forest"
   ]
  },
  {
   "cell_type": "code",
   "execution_count": 67,
   "metadata": {},
   "outputs": [],
   "source": [
    "from sklearn.ensemble import RandomForestRegressor"
   ]
  },
  {
   "cell_type": "code",
   "execution_count": 68,
   "metadata": {},
   "outputs": [],
   "source": [
    "rf_model = RandomForestRegressor()"
   ]
  },
  {
   "cell_type": "code",
   "execution_count": 69,
   "metadata": {},
   "outputs": [
    {
     "data": {
      "text/plain": [
       "RandomForestRegressor(bootstrap=True, criterion='mse', max_depth=None,\n",
       "                      max_features='auto', max_leaf_nodes=None,\n",
       "                      min_impurity_decrease=0.0, min_impurity_split=None,\n",
       "                      min_samples_leaf=1, min_samples_split=2,\n",
       "                      min_weight_fraction_leaf=0.0, n_estimators=10,\n",
       "                      n_jobs=None, oob_score=False, random_state=None,\n",
       "                      verbose=0, warm_start=False)"
      ]
     },
     "execution_count": 69,
     "metadata": {},
     "output_type": "execute_result"
    }
   ],
   "source": [
    "rf_model.fit(X_train, y_train)"
   ]
  },
  {
   "cell_type": "code",
   "execution_count": 70,
   "metadata": {},
   "outputs": [],
   "source": [
    "y_pred2 = rf_model.predict(X_test)"
   ]
  },
  {
   "cell_type": "code",
   "execution_count": 71,
   "metadata": {},
   "outputs": [],
   "source": [
    "from sklearn.metrics import mean_squared_error\n",
    "from sklearn.metrics import mean_absolute_error\n",
    "from math import sqrt\n",
    "from sklearn.metrics import accuracy_score"
   ]
  },
  {
   "cell_type": "code",
   "execution_count": 72,
   "metadata": {},
   "outputs": [],
   "source": [
    "rf_mse = mean_squared_error(y_test, y_pred2)\n",
    "rf_mae = mean_absolute_error(y_test, y_pred2)\n",
    "rf_acc = accuracy_score(y_test,y_pred2.round())"
   ]
  },
  {
   "cell_type": "code",
   "execution_count": 73,
   "metadata": {},
   "outputs": [
    {
     "name": "stdout",
     "output_type": "stream",
     "text": [
      "\n",
      "Random Forest:\n",
      "Mean Absolute Error: 0.10221220125521091\n",
      "Mean Squared Error 0.057431958730729454\n",
      "Root Mean Squared Error: 0.23964965831548657\n",
      "Accuracy percentage 91.6588542643217\n"
     ]
    }
   ],
   "source": [
    "print(\"\\nRandom Forest:\")\n",
    "print(\"Mean Absolute Error:\",rf_mae)\n",
    "print(\"Mean Squared Error\",rf_mse)\n",
    "print(\"Root Mean Squared Error:\", sqrt(rf_mse))\n",
    "print(\"Accuracy percentage\",rf_acc*100)"
   ]
  },
  {
   "cell_type": "code",
   "execution_count": null,
   "metadata": {},
   "outputs": [],
   "source": []
  },
  {
   "cell_type": "markdown",
   "metadata": {},
   "source": [
    "# 4.KNN"
   ]
  },
  {
   "cell_type": "code",
   "execution_count": 74,
   "metadata": {},
   "outputs": [],
   "source": [
    "from sklearn.neighbors import KNeighborsRegressor"
   ]
  },
  {
   "cell_type": "code",
   "execution_count": 75,
   "metadata": {},
   "outputs": [],
   "source": [
    "model = KNeighborsRegressor()"
   ]
  },
  {
   "cell_type": "code",
   "execution_count": 76,
   "metadata": {},
   "outputs": [
    {
     "data": {
      "text/plain": [
       "KNeighborsRegressor(algorithm='auto', leaf_size=30, metric='minkowski',\n",
       "                    metric_params=None, n_jobs=None, n_neighbors=5, p=2,\n",
       "                    weights='uniform')"
      ]
     },
     "execution_count": 76,
     "metadata": {},
     "output_type": "execute_result"
    }
   ],
   "source": [
    "model.fit(X_train, y_train)"
   ]
  },
  {
   "cell_type": "code",
   "execution_count": 78,
   "metadata": {},
   "outputs": [],
   "source": [
    "y_pred = model.predict(X_test)"
   ]
  },
  {
   "cell_type": "code",
   "execution_count": 79,
   "metadata": {},
   "outputs": [],
   "source": [
    "from sklearn.metrics import mean_squared_error\n",
    "from sklearn.metrics import mean_absolute_error\n",
    "from math import sqrt\n",
    "from sklearn.metrics import accuracy_score"
   ]
  },
  {
   "cell_type": "code",
   "execution_count": 80,
   "metadata": {},
   "outputs": [],
   "source": [
    "knn_mse = mean_squared_error(y_test, y_pred)\n",
    "knn_mae = mean_absolute_error(y_test, y_pred)\n",
    "knn_acc = accuracy_score(y_test,y_pred.round())"
   ]
  },
  {
   "cell_type": "code",
   "execution_count": 81,
   "metadata": {},
   "outputs": [
    {
     "name": "stdout",
     "output_type": "stream",
     "text": [
      "Mean Absolute Error: 0.10274371570355371\n",
      "Mean Squared Error: 0.06129223384707692\n",
      "Root Mean Squared Error: 0.2475726839679146\n",
      "Accuracy percentage 91.21635979550256\n"
     ]
    }
   ],
   "source": [
    "print(\"Mean Absolute Error:\",knn_mae)\n",
    "print(\"Mean Squared Error:\",knn_mse)\n",
    "print(\"Root Mean Squared Error:\", sqrt(knn_mse))\n",
    "print(\"Accuracy percentage\",knn_acc*100)"
   ]
  },
  {
   "cell_type": "code",
   "execution_count": null,
   "metadata": {},
   "outputs": [],
   "source": []
  },
  {
   "cell_type": "markdown",
   "metadata": {},
   "source": [
    "# 5.Neural Network "
   ]
  },
  {
   "cell_type": "code",
   "execution_count": 83,
   "metadata": {},
   "outputs": [],
   "source": [
    "from sklearn.neural_network import MLPRegressor"
   ]
  },
  {
   "cell_type": "code",
   "execution_count": 84,
   "metadata": {},
   "outputs": [],
   "source": [
    "# Multilayer Perceptron regressor\n",
    "model = MLPRegressor(alpha=1,max_iter=1000,momentum=0.9)"
   ]
  },
  {
   "cell_type": "code",
   "execution_count": 85,
   "metadata": {},
   "outputs": [
    {
     "data": {
      "text/plain": [
       "MLPRegressor(activation='relu', alpha=1, batch_size='auto', beta_1=0.9,\n",
       "             beta_2=0.999, early_stopping=False, epsilon=1e-08,\n",
       "             hidden_layer_sizes=(100,), learning_rate='constant',\n",
       "             learning_rate_init=0.001, max_iter=1000, momentum=0.9,\n",
       "             n_iter_no_change=10, nesterovs_momentum=True, power_t=0.5,\n",
       "             random_state=None, shuffle=True, solver='adam', tol=0.0001,\n",
       "             validation_fraction=0.1, verbose=False, warm_start=False)"
      ]
     },
     "execution_count": 85,
     "metadata": {},
     "output_type": "execute_result"
    }
   ],
   "source": [
    "model.fit(X_train, y_train)"
   ]
  },
  {
   "cell_type": "code",
   "execution_count": 86,
   "metadata": {},
   "outputs": [],
   "source": [
    "y_pred = model.predict(X_test)"
   ]
  },
  {
   "cell_type": "code",
   "execution_count": 87,
   "metadata": {},
   "outputs": [],
   "source": [
    "from sklearn.metrics import accuracy_score"
   ]
  },
  {
   "cell_type": "code",
   "execution_count": 88,
   "metadata": {},
   "outputs": [],
   "source": [
    "nn_mse = mean_squared_error(y_test, y_pred)\n",
    "nn_mae = mean_absolute_error(y_test, y_pred)\n",
    "nn_acc = accuracy_score(y_test,y_pred.round())"
   ]
  },
  {
   "cell_type": "code",
   "execution_count": 89,
   "metadata": {},
   "outputs": [
    {
     "name": "stdout",
     "output_type": "stream",
     "text": [
      "Mean Absolute Error: 0.11261199055941944\n",
      "Mean Squared Error: 0.052753966723451805\n",
      "Root Mean Squared Error: 0.22968231695855867\n",
      "Accuracy percentage 92.057599280009\n"
     ]
    }
   ],
   "source": [
    "print(\"Mean Absolute Error:\",nn_mae)\n",
    "print(\"Mean Squared Error:\",nn_mse)\n",
    "print(\"Root Mean Squared Error:\", sqrt(nn_mse))\n",
    "print(\"Accuracy percentage\",nn_acc*100)"
   ]
  },
  {
   "cell_type": "markdown",
   "metadata": {},
   "source": [
    "# 6.Naive Bayes Algorithm"
   ]
  },
  {
   "cell_type": "code",
   "execution_count": 90,
   "metadata": {},
   "outputs": [],
   "source": [
    "from sklearn.naive_bayes import GaussianNB\n",
    "from sklearn.naive_bayes import MultinomialNB\n",
    "from sklearn import datasets\n",
    "from sklearn.metrics import confusion_matrix"
   ]
  },
  {
   "cell_type": "code",
   "execution_count": 91,
   "metadata": {},
   "outputs": [],
   "source": [
    "gnb = GaussianNB()\n",
    "mnb = MultinomialNB()"
   ]
  },
  {
   "cell_type": "code",
   "execution_count": 92,
   "metadata": {},
   "outputs": [],
   "source": [
    "y_pred_gnb = gnb.fit(X_train,y_train).predict(X_test)\n",
    "y_pred_mnb = mnb.fit(X_train,y_train).predict(X_test)"
   ]
  },
  {
   "cell_type": "code",
   "execution_count": 93,
   "metadata": {},
   "outputs": [],
   "source": [
    "gnb_mse = mean_squared_error(y_test, y_pred_gnb)\n",
    "gnb_mae = mean_absolute_error(y_test, y_pred_gnb)\n",
    "gnb_acc = accuracy_score(y_test,y_pred_gnb.round())"
   ]
  },
  {
   "cell_type": "code",
   "execution_count": 94,
   "metadata": {},
   "outputs": [],
   "source": [
    "mnb_mse = mean_squared_error(y_test, y_pred_mnb)\n",
    "mnb_mae = mean_absolute_error(y_test, y_pred_mnb)\n",
    "mnb_acc = accuracy_score(y_test,y_pred_mnb.round())"
   ]
  },
  {
   "cell_type": "code",
   "execution_count": 95,
   "metadata": {},
   "outputs": [
    {
     "name": "stdout",
     "output_type": "stream",
     "text": [
      "Mean Absolute Error: 0.09363632954588068\n",
      "Mean Squared Error: 0.09363632954588068\n",
      "Root Mean Squared Error: 0.3060005384731875\n",
      "Accuracy percentage 90.63636704541193\n"
     ]
    }
   ],
   "source": [
    "print(\"Mean Absolute Error:\",gnb_mae)\n",
    "print(\"Mean Squared Error:\",gnb_mse)\n",
    "print(\"Root Mean Squared Error:\", sqrt(gnb_mse))\n",
    "print(\"Accuracy percentage\",gnb_acc*100)"
   ]
  },
  {
   "cell_type": "code",
   "execution_count": 96,
   "metadata": {},
   "outputs": [
    {
     "name": "stdout",
     "output_type": "stream",
     "text": [
      "Mean Absolute Error: 0.14309821127235908\n",
      "Mean Squared Error: 0.14309821127235908\n",
      "Root Mean Squared Error: 0.37828324212467973\n",
      "Accuracy percentage 85.6901788727641\n"
     ]
    }
   ],
   "source": [
    "print(\"Mean Absolute Error:\",mnb_mae)\n",
    "print(\"Mean Squared Error:\",mnb_mse)\n",
    "print(\"Root Mean Squared Error:\", sqrt(mnb_mse))\n",
    "print(\"Accuracy percentage\",mnb_acc*100)"
   ]
  },
  {
   "cell_type": "code",
   "execution_count": null,
   "metadata": {},
   "outputs": [],
   "source": []
  },
  {
   "cell_type": "markdown",
   "metadata": {},
   "source": [
    "# 7.LSTM network"
   ]
  },
  {
   "cell_type": "code",
   "execution_count": 97,
   "metadata": {},
   "outputs": [],
   "source": [
    "from tensorflow.keras.models import Sequential\n",
    "from tensorflow.keras.layers import Dense\n",
    "from tensorflow.keras.layers import LSTM\n",
    "from tensorflow.keras.layers import Dropout"
   ]
  },
  {
   "cell_type": "code",
   "execution_count": 98,
   "metadata": {},
   "outputs": [],
   "source": [
    "# Initialising the LSTM\n",
    "regressor = Sequential()\n",
    "\n",
    "# Adding the first LSTM layer and some Dropout regularisation\n",
    "regressor.add(LSTM(units = 50, return_sequences = True, input_shape = (X_train.shape[1], 1)))\n",
    "regressor.add(Dropout(0.5))\n",
    "\n",
    "# Adding a second LSTM layer and some Dropout regularisation\n",
    "regressor.add(LSTM(units = 50, return_sequences = True))\n",
    "regressor.add(Dropout(0.5))\n",
    "\n",
    "# Adding a third LSTM layer and some Dropout regularisation\n",
    "regressor.add(LSTM(units = 50, return_sequences = True,))\n",
    "regressor.add(Dropout(0.5))\n",
    "\n",
    "# Adding a fourth LSTM layer and some Dropout regularisation\n",
    "regressor.add(LSTM(units = 50))\n",
    "regressor.add(Dropout(0.5))\n",
    "\n",
    "# Adding the output layer\n",
    "regressor.add(Dense(units = 1))\n",
    "\n",
    "# Compiling the model\n",
    "regressor.compile(optimizer = 'adam', loss = 'mean_squared_error')"
   ]
  },
  {
   "cell_type": "code",
   "execution_count": 99,
   "metadata": {},
   "outputs": [
    {
     "name": "stdout",
     "output_type": "stream",
     "text": [
      "Model: \"sequential_1\"\n",
      "_________________________________________________________________\n",
      "Layer (type)                 Output Shape              Param #   \n",
      "=================================================================\n",
      "lstm_4 (LSTM)                (None, 15, 50)            10400     \n",
      "_________________________________________________________________\n",
      "dropout_4 (Dropout)          (None, 15, 50)            0         \n",
      "_________________________________________________________________\n",
      "lstm_5 (LSTM)                (None, 15, 50)            20200     \n",
      "_________________________________________________________________\n",
      "dropout_5 (Dropout)          (None, 15, 50)            0         \n",
      "_________________________________________________________________\n",
      "lstm_6 (LSTM)                (None, 15, 50)            20200     \n",
      "_________________________________________________________________\n",
      "dropout_6 (Dropout)          (None, 15, 50)            0         \n",
      "_________________________________________________________________\n",
      "lstm_7 (LSTM)                (None, 50)                20200     \n",
      "_________________________________________________________________\n",
      "dropout_7 (Dropout)          (None, 50)                0         \n",
      "_________________________________________________________________\n",
      "dense_1 (Dense)              (None, 1)                 51        \n",
      "=================================================================\n",
      "Total params: 71,051\n",
      "Trainable params: 71,051\n",
      "Non-trainable params: 0\n",
      "_________________________________________________________________\n"
     ]
    }
   ],
   "source": [
    "regressor.summary()"
   ]
  },
  {
   "cell_type": "code",
   "execution_count": 100,
   "metadata": {},
   "outputs": [
    {
     "data": {
      "text/plain": [
       "((320000, 15), (320000,), (80001, 15), (80001,))"
      ]
     },
     "execution_count": 100,
     "metadata": {},
     "output_type": "execute_result"
    }
   ],
   "source": [
    "X_train.shape, y_train.shape, X_test.shape, y_test.shape"
   ]
  },
  {
   "cell_type": "code",
   "execution_count": 101,
   "metadata": {},
   "outputs": [
    {
     "name": "stdout",
     "output_type": "stream",
     "text": [
      "(320000, 15, 1)\n",
      "(80001, 15, 1)\n"
     ]
    }
   ],
   "source": [
    "\n",
    "X_train_lsm = X_train.reshape(X_train.shape[0], X_train.shape[1], 1)\n",
    "X_test_lsm = X_test.reshape(X_test.shape[0], X_test.shape[1], 1)\n",
    "\n",
    "print(X_train_lsm.shape) \n",
    "print(X_test_lsm.shape)"
   ]
  },
  {
   "cell_type": "code",
   "execution_count": 102,
   "metadata": {},
   "outputs": [
    {
     "name": "stdout",
     "output_type": "stream",
     "text": [
      "Train on 256000 samples, validate on 64000 samples\n",
      "Epoch 1/40\n",
      "256000/256000 [==============================] - 166s 648us/sample - loss: 0.0557 - val_loss: 0.0520\n",
      "Epoch 2/40\n",
      "256000/256000 [==============================] - 164s 639us/sample - loss: 0.0528 - val_loss: 0.0525\n",
      "Epoch 3/40\n",
      "256000/256000 [==============================] - 162s 634us/sample - loss: 0.0526 - val_loss: 0.0523\n",
      "Epoch 4/40\n",
      "256000/256000 [==============================] - 178s 694us/sample - loss: 0.0523 - val_loss: 0.0517\n",
      "Epoch 5/40\n",
      "256000/256000 [==============================] - 180s 702us/sample - loss: 0.0522 - val_loss: 0.0515\n",
      "Epoch 6/40\n",
      "256000/256000 [==============================] - 174s 681us/sample - loss: 0.0520 - val_loss: 0.0514ss\n",
      "Epoch 7/40\n",
      "256000/256000 [==============================] - 175s 684us/sample - loss: 0.0519 - val_loss: 0.0513\n",
      "Epoch 8/40\n",
      "256000/256000 [==============================] - 179s 701us/sample - loss: 0.0518 - val_loss: 0.0510\n",
      "Epoch 9/40\n",
      "256000/256000 [==============================] - 185s 722us/sample - loss: 0.0518 - val_loss: 0.0510\n",
      "Epoch 10/40\n",
      "256000/256000 [==============================] - 182s 712us/sample - loss: 0.0517 - val_loss: 0.0511\n",
      "Epoch 11/40\n",
      "256000/256000 [==============================] - 178s 694us/sample - loss: 0.0516 - val_loss: 0.0509\n",
      "Epoch 12/40\n",
      "256000/256000 [==============================] - 175s 684us/sample - loss: 0.0517 - val_loss: 0.0509\n",
      "Epoch 13/40\n",
      "256000/256000 [==============================] - 179s 701us/sample - loss: 0.0516 - val_loss: 0.0510\n",
      "Epoch 14/40\n",
      "256000/256000 [==============================] - 188s 735us/sample - loss: 0.0515 - val_loss: 0.0512\n",
      "Epoch 15/40\n",
      "256000/256000 [==============================] - 182s 711us/sample - loss: 0.0515 - val_loss: 0.0508\n",
      "Epoch 16/40\n",
      "256000/256000 [==============================] - 176s 686us/sample - loss: 0.0515 - val_loss: 0.0509\n",
      "Epoch 17/40\n",
      "256000/256000 [==============================] - 171s 669us/sample - loss: 0.0515 - val_loss: 0.0510\n",
      "Epoch 18/40\n",
      "256000/256000 [==============================] - 177s 693us/sample - loss: 0.0514 - val_loss: 0.0509\n",
      "Epoch 19/40\n",
      "256000/256000 [==============================] - 181s 707us/sample - loss: 0.0514 - val_loss: 0.0509\n",
      "Epoch 20/40\n",
      "256000/256000 [==============================] - 179s 700us/sample - loss: 0.0514 - val_loss: 0.0508\n",
      "Epoch 21/40\n",
      "256000/256000 [==============================] - 175s 682us/sample - loss: 0.0515 - val_loss: 0.0508\n",
      "Epoch 22/40\n",
      "256000/256000 [==============================] - 170s 665us/sample - loss: 0.0513 - val_loss: 0.0508\n",
      "Epoch 23/40\n",
      "256000/256000 [==============================] - 171s 667us/sample - loss: 0.0513 - val_loss: 0.0508\n",
      "Epoch 24/40\n",
      "256000/256000 [==============================] - 178s 697us/sample - loss: 0.0513 - val_loss: 0.0508\n",
      "Epoch 25/40\n",
      "256000/256000 [==============================] - 185s 721us/sample - loss: 0.0513 - val_loss: 0.0508\n",
      "Epoch 26/40\n",
      "256000/256000 [==============================] - 172s 674us/sample - loss: 0.0513 - val_loss: 0.0509\n",
      "Epoch 27/40\n",
      "256000/256000 [==============================] - 172s 672us/sample - loss: 0.0512 - val_loss: 0.0508\n",
      "Epoch 28/40\n",
      "256000/256000 [==============================] - 174s 681us/sample - loss: 0.0512 - val_loss: 0.0508\n",
      "Epoch 29/40\n",
      "256000/256000 [==============================] - 179s 700us/sample - loss: 0.0513 - val_loss: 0.0508\n",
      "Epoch 30/40\n",
      "256000/256000 [==============================] - 186s 726us/sample - loss: 0.0512 - val_loss: 0.0508\n",
      "Epoch 31/40\n",
      "256000/256000 [==============================] - 188s 735us/sample - loss: 0.0513 - val_loss: 0.0508\n",
      "Epoch 32/40\n",
      "256000/256000 [==============================] - 250s 978us/sample - loss: 0.0512 - val_loss: 0.0508\n",
      "Epoch 33/40\n",
      "256000/256000 [==============================] - 261s 1ms/sample - loss: 0.0512 - val_loss: 0.0507\n",
      "Epoch 34/40\n",
      "256000/256000 [==============================] - 213s 833us/sample - loss: 0.0513 - val_loss: 0.0507\n",
      "Epoch 35/40\n",
      "256000/256000 [==============================] - 188s 734us/sample - loss: 0.0511 - val_loss: 0.0507\n",
      "Epoch 36/40\n",
      "256000/256000 [==============================] - 175s 685us/sample - loss: 0.0512 - val_loss: 0.0508\n",
      "Epoch 37/40\n",
      "256000/256000 [==============================] - 175s 683us/sample - loss: 0.0512 - val_loss: 0.0508\n",
      "Epoch 38/40\n",
      "256000/256000 [==============================] - 183s 714us/sample - loss: 0.0512 - val_loss: 0.0508\n",
      "Epoch 39/40\n",
      "256000/256000 [==============================] - 187s 732us/sample - loss: 0.0512 - val_loss: 0.0508\n",
      "Epoch 40/40\n",
      "256000/256000 [==============================] - 175s 685us/sample - loss: 0.0511 - val_loss: 0.0513\n"
     ]
    }
   ],
   "source": [
    "# Fitting the LSTM to the Training set\n",
    "history = regressor.fit(X_train_lsm, y_train, validation_split=0.2, epochs = 40, batch_size = 32, verbose=1, shuffle=False)"
   ]
  },
  {
   "cell_type": "code",
   "execution_count": 103,
   "metadata": {},
   "outputs": [
    {
     "data": {
      "text/plain": [
       "<matplotlib.legend.Legend at 0x274938dc7c8>"
      ]
     },
     "execution_count": 103,
     "metadata": {},
     "output_type": "execute_result"
    },
    {
     "data": {
      "image/png": "[encoded data removed]",
      "text/plain": [
       "<Figure size 864x504 with 1 Axes>"
      ]
     },
     "metadata": {
      "needs_background": "light"
     },
     "output_type": "display_data"
    }
   ],
   "source": [
    "plt.figure(figsize=(12,7))\n",
    "plt.plot(history.history[\"loss\"], label= \"train loss\")\n",
    "plt.plot(history.history[\"val_loss\"], label= \"validation loss\")\n",
    "plt.legend()"
   ]
  },
  {
   "cell_type": "code",
   "execution_count": 104,
   "metadata": {},
   "outputs": [],
   "source": [
    "test_predict = regressor.predict(X_test_lsm)"
   ]
  },
  {
   "cell_type": "code",
   "execution_count": 105,
   "metadata": {},
   "outputs": [],
   "source": [
    "from sklearn.metrics import mean_squared_error\n",
    "from sklearn.metrics import mean_absolute_error\n",
    "from math import sqrt\n",
    "from sklearn.metrics import accuracy_score"
   ]
  },
  {
   "cell_type": "code",
   "execution_count": 106,
   "metadata": {},
   "outputs": [],
   "source": [
    "lstm_mse = mean_squared_error(y_test, test_predict)\n",
    "lstm_mae = mean_absolute_error(y_test, test_predict)\n",
    "lstm_acc = accuracy_score(y_test,test_predict.round())"
   ]
  },
  {
   "cell_type": "code",
   "execution_count": 107,
   "metadata": {},
   "outputs": [
    {
     "name": "stdout",
     "output_type": "stream",
     "text": [
      "Mean Absolute Error: 0.10711727245231735\n",
      "Mean Squared Error: 0.05168821908773316\n",
      "Root Mean Squared Error: 0.22735043234560423\n",
      "Accuracy percentage 92.12884838939513\n"
     ]
    }
   ],
   "source": [
    "print(\"Mean Absolute Error:\",lstm_mae)\n",
    "print(\"Mean Squared Error:\",lstm_mse)\n",
    "print(\"Root Mean Squared Error:\", sqrt(lstm_mse))\n",
    "print(\"Accuracy percentage\",lstm_acc*100)"
   ]
  },
  {
   "cell_type": "code",
   "execution_count": null,
   "metadata": {},
   "outputs": [],
   "source": []
  },
  {
   "cell_type": "markdown",
   "metadata": {},
   "source": [
    "# Comparison of models implemented"
   ]
  },
  {
   "cell_type": "markdown",
   "metadata": {},
   "source": [
    "### Based on accuracy score"
   ]
  },
  {
   "cell_type": "code",
   "execution_count": 117,
   "metadata": {},
   "outputs": [
    {
     "data": {
      "image/png": "[encoded data removed]",
      "text/plain": [
       "<Figure size 576x360 with 1 Axes>"
      ]
     },
     "metadata": {
      "needs_background": "light"
     },
     "output_type": "display_data"
    }
   ],
   "source": [
    "plt.figure(figsize = (8,5))\n",
    "X = ['LinearRegression','DecisionTree','RandomForest','KNN','NeuralNetwork','NaiveBias','LSTM']\n",
    "Y = [lr_acc,tree_acc,rf_acc,knn_acc,nn_acc,gnb_acc,lstm_acc]\n",
    "ax = sns.barplot(x=X,y=Y,palette='cool')\n",
    "ax.set(xlabel ='Model',ylabel ='Accuracy score')\n",
    "plt.show()"
   ]
  },
  {
   "cell_type": "markdown",
   "metadata": {},
   "source": [
    "### Based on mean absolute error"
   ]
  },
  {
   "cell_type": "code",
   "execution_count": 112,
   "metadata": {},
   "outputs": [
    {
     "data": {
      "image/png": "[encoded data removed]",
      "text/plain": [
       "<Figure size 576x360 with 1 Axes>"
      ]
     },
     "metadata": {
      "needs_background": "light"
     },
     "output_type": "display_data"
    }
   ],
   "source": [
    "plt.figure(figsize = (8,5))\n",
    "X = ['LinearRegression','DecisionTree','RandomForest','KNN','NeuralNetwork','NaiveBias','LSTM']\n",
    "Y = [lr_mae,tree_mae,rf_mae,knn_mae,nn_mae,gnb_mae,lstm_mae]\n",
    "ax = sns.barplot(x=X,y=Y,palette='viridis')\n",
    "ax.set(xlabel ='Model',ylabel ='Mean Absolute Error')\n",
    "plt.show()"
   ]
  },
  {
   "cell_type": "markdown",
   "metadata": {},
   "source": [
    "### Based on mean square error"
   ]
  },
  {
   "cell_type": "code",
   "execution_count": 113,
   "metadata": {},
   "outputs": [
    {
     "data": {
      "image/png": "[encoded data removed]",
      "text/plain": [
       "<Figure size 576x360 with 1 Axes>"
      ]
     },
     "metadata": {
      "needs_background": "light"
     },
     "output_type": "display_data"
    }
   ],
   "source": [
    "plt.figure(figsize = (8,5))\n",
    "X = ['LinearRegression','DecisionTree','RandomForest','KNN','NeuralNetwork','NaiveBias','LSTM']\n",
    "Y = [lr_mse,tree_mse,rf_mse,knn_mse,nn_mse,gnb_mse,lstm_mse]\n",
    "ax = sns.barplot(x=X,y=Y,palette='rocket')\n",
    "ax.set(xlabel ='Model',ylabel ='Mean Square Error')\n",
    "plt.show()"
   ]
  },
  {
   "cell_type": "code",
   "execution_count": null,
   "metadata": {},
   "outputs": [],
   "source": []
  },
  {
   "cell_type": "markdown",
   "metadata": {},
   "source": [
    "\n",
    "\n",
    "# Summary and results derived :\n",
    "\n",
    "## We have done data analysis and implemented seven machine learning algorithms in order to predict the risk a patient can have of dying.\n",
    "\n",
    "## With the help of EDA we have cocluded following main points:\n",
    "### 1.The covid virus has effected more to the higher age group.\n",
    "### 2. Highest amount of deaths reported were between the age group 60-80\n",
    "### 3. The people who have diseases like pneumonia or asthma are at a higher risk.\n",
    "### 4. Data analysis has also shown that there are more number of cases of males than females. \n",
    "\n",
    "# MODELS AND PERFORMANCE:\n",
    "\n",
    "\n",
    "\n",
    "### Linear Regression   :      92.00\n",
    "\n",
    "### Decision Tree           :      91.71\n",
    "\n",
    "### Random Forest        :      91.65\n",
    "\n",
    "### KNN                           :      91.21\n",
    "\n",
    "### Neural Network        :      92.05\n",
    "\n",
    "### Gaussian Naive Bias       :      90.63\n",
    "\n",
    "### Multinomial Naive Bias   :      85.69\n",
    "\n",
    "### LSTM netowork        :      92.12\n",
    "\n",
    "\n",
    "### We have succesfully developed 8 ML models in order to predict the mortality or death risk of a patient and compared them. We have achieved the highest accuracy with the LSTM network model - 92.12%. We have found out that LSTM and Neural Networks have performed better than the other models."
   ]
  }
 ],
 "metadata": {
  "kernelspec": {
   "display_name": "Python 3",
   "language": "python",
   "name": "python3"
  },
  "language_info": {
   "codemirror_mode": {
    "name": "ipython",
    "version": 3
   },
   "file_extension": ".py",
   "mimetype": "text/x-python",
   "name": "python",
   "nbconvert_exporter": "python",
   "pygments_lexer": "ipython3",
   "version": "3.7.4"
  }
 },
 "nbformat": 4,
 "nbformat_minor": 2
}
